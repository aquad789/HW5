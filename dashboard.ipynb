{
 "cells": [
  {
   "cell_type": "markdown",
   "metadata": {},
   "source": [
    "# San Francisco Rental Prices Dashboard\n",
    "\n",
    "In this notebook, you will compile the visualizations from the previous analysis into functions that can be used for a Panel dashboard."
   ]
  },
  {
   "cell_type": "code",
   "execution_count": 47,
   "metadata": {},
   "outputs": [],
   "source": [
    "# imports\n",
    "import plotly.express as px\n",
    "import panel as pn\n",
    "import pandas as pd\n",
    "\n",
    "import os\n",
    "from pathlib import Path\n",
    "from dotenv import load_dotenv\n",
    "\n",
    "import matplotlib.pyplot as plt\n",
    "pn.extension('plotly')\n",
    "import hvplot.pandas\n",
    "\n"
   ]
  },
  {
   "cell_type": "code",
   "execution_count": 48,
   "metadata": {},
   "outputs": [],
   "source": [
    "# Read the Mapbox API key\n",
    "load_dotenv()\n",
    "map_box_api = os.getenv(\"mapbox\")\n",
    "px.set_mapbox_access_token(map_box_api)"
   ]
  },
  {
   "cell_type": "markdown",
   "metadata": {},
   "source": [
    "# Import Data"
   ]
  },
  {
   "cell_type": "code",
   "execution_count": 49,
   "metadata": {},
   "outputs": [
    {
     "data": {
      "text/html": [
       "<div>\n",
       "<style scoped>\n",
       "    .dataframe tbody tr th:only-of-type {\n",
       "        vertical-align: middle;\n",
       "    }\n",
       "\n",
       "    .dataframe tbody tr th {\n",
       "        vertical-align: top;\n",
       "    }\n",
       "\n",
       "    .dataframe thead th {\n",
       "        text-align: right;\n",
       "    }\n",
       "</style>\n",
       "<table border=\"1\" class=\"dataframe\">\n",
       "  <thead>\n",
       "    <tr style=\"text-align: right;\">\n",
       "      <th></th>\n",
       "      <th>neighborhood</th>\n",
       "      <th>sale_price_sqr_foot</th>\n",
       "      <th>housing_units</th>\n",
       "      <th>gross_rent</th>\n",
       "    </tr>\n",
       "    <tr>\n",
       "      <th>year</th>\n",
       "      <th></th>\n",
       "      <th></th>\n",
       "      <th></th>\n",
       "      <th></th>\n",
       "    </tr>\n",
       "  </thead>\n",
       "  <tbody>\n",
       "    <tr>\n",
       "      <th>2010</th>\n",
       "      <td>Alamo Square</td>\n",
       "      <td>291.182945</td>\n",
       "      <td>372560</td>\n",
       "      <td>1239</td>\n",
       "    </tr>\n",
       "    <tr>\n",
       "      <th>2010</th>\n",
       "      <td>Anza Vista</td>\n",
       "      <td>267.932583</td>\n",
       "      <td>372560</td>\n",
       "      <td>1239</td>\n",
       "    </tr>\n",
       "    <tr>\n",
       "      <th>2010</th>\n",
       "      <td>Bayview</td>\n",
       "      <td>170.098665</td>\n",
       "      <td>372560</td>\n",
       "      <td>1239</td>\n",
       "    </tr>\n",
       "    <tr>\n",
       "      <th>2010</th>\n",
       "      <td>Buena Vista Park</td>\n",
       "      <td>347.394919</td>\n",
       "      <td>372560</td>\n",
       "      <td>1239</td>\n",
       "    </tr>\n",
       "    <tr>\n",
       "      <th>2010</th>\n",
       "      <td>Central Richmond</td>\n",
       "      <td>319.027623</td>\n",
       "      <td>372560</td>\n",
       "      <td>1239</td>\n",
       "    </tr>\n",
       "  </tbody>\n",
       "</table>\n",
       "</div>"
      ],
      "text/plain": [
       "          neighborhood  sale_price_sqr_foot  housing_units  gross_rent\n",
       "year                                                                  \n",
       "2010      Alamo Square           291.182945         372560        1239\n",
       "2010        Anza Vista           267.932583         372560        1239\n",
       "2010           Bayview           170.098665         372560        1239\n",
       "2010  Buena Vista Park           347.394919         372560        1239\n",
       "2010  Central Richmond           319.027623         372560        1239"
      ]
     },
     "execution_count": 49,
     "metadata": {},
     "output_type": "execute_result"
    }
   ],
   "source": [
    "# Import the necessary CSVs to Pandas DataFrames\n",
    "file_path = Path(\"Data/sfo_neighborhoods_census_data.csv\")\n",
    "sfo_panel = pd.read_csv(file_path, index_col=\"year\")\n",
    "sfo_panel.head()"
   ]
  },
  {
   "cell_type": "markdown",
   "metadata": {},
   "source": [
    "- - -"
   ]
  },
  {
   "cell_type": "markdown",
   "metadata": {},
   "source": [
    "## Panel Visualizations\n",
    "\n",
    "In this section, you will copy the code for each plot type from your analysis notebook and place it into separate functions that Panel can use to create panes for the dashboard. \n",
    "\n",
    "These functions will convert the plot object to a Panel pane.\n",
    "\n",
    "Be sure to include any DataFrame transformation/manipulation code required along with the plotting code.\n",
    "\n",
    "Return a Panel pane object from each function that can be used to build the dashboard.\n",
    "\n",
    "Note: Remove any `.show()` lines from the code. We want to return the plots instead of showing them. The Panel dashboard will then display the plots."
   ]
  },
  {
   "cell_type": "code",
   "execution_count": 54,
   "metadata": {},
   "outputs": [],
   "source": [
    "# Define Panel Visualization Functions\n",
    "def housing_units_per_year(sfo_panel):\n",
    "    \"\"\"Housing Units Per Year.\"\"\"\n",
    "    \n",
    "    # YOUR CODE HERE!\n",
    "    housing_units_mean = sfo_panel['housing_units'].groupby('year').mean()\n",
    "    min_h = housing_units_mean.min()\n",
    "    max_h = housing_units_mean.max()\n",
    "    std_h = housing_units_mean.std()\n",
    "    \n",
    "    figure1 = plt.figure()\n",
    "    plot_housing_units = housing_units_mean.plot.bar()\n",
    "\n",
    "    plot_housing_units.set_xlabel('Year')\n",
    "    plot_housing_units.set_ylabel('Housing Units')\n",
    "    plot_housing_units.set_title('Housing Units in San Francisco from 2010 to 2016')\n",
    "    plot_housing_units.set_ylim( min_h - 2*std_h , max_h + 2*std_h)\n",
    "  \n",
    "\n",
    "    return plot_housing_units\n",
    " \n",
    "\n",
    "def average_gross_rent(sfo_panel):\n",
    "    \"\"\"Average Gross Rent in San Francisco Per Year.\"\"\"\n",
    "    \n",
    "    # YOUR CODE HERE!\n",
    "    avg_sale_price = sfo_panel[['gross_rent']].groupby('year').mean()\n",
    "  \n",
    "\n",
    "    figure3 = plt.figure()\n",
    "    plot_gross_rent  = avg_sale_price['gross_rent'].plot(color='red')\n",
    "\n",
    "    plot_gross_rent.set_xlabel('Year')\n",
    "    plot_gross_rent.set_ylabel('Gross Rent by Year')\n",
    "    plot_gross_rent.set_title('Average Gross Rent by Year')\n",
    "   \n",
    "    return plot_gross_rent\n",
    "    \n",
    "def average_sales_price():\n",
    "    \"\"\"Average Sales Price Per Year.\"\"\"\n",
    "    \n",
    "    # YOUR CODE HERE!\n",
    "    sales_price_by_neighborhood = sfo_panel.groupby(['year','neighborhood']).mean()\n",
    "    hplot_sales_price_by_neighborhood = sales_price_by_neighborhood.hvplot(x='year', y='sale_price_sqr_foot', rot=90, legend='bottom_right', width=400, groupby='neighborhood', hover_cols='all')\n",
    "    return hplot_sales_price_by_neighborhood\n",
    "\n",
    "\n",
    "def average_price_by_neighborhood(sfo_panel):\n",
    "    \"\"\"Average Prices by Neighborhood.\"\"\"\n",
    "    \n",
    "    # YOUR CODE HERE!\n",
    "    sales_price_by_neighborhood = sfo_panel.groupby(['year','neighborhood']).mean()\n",
    "    hplot_sales_price_by_neighborhood = sales_price_by_neighborhood.hvplot(x='year', y='sale_price_sqr_foot', rot=90, legend='bottom_right', width=400, groupby='neighborhood', hover_cols='all')\n",
    "    return hplot_sales_price_by_neighborhood\n",
    "\n",
    "def top_most_expensive_neighborhoods():\n",
    "    \"\"\"Top 10 Most Expensive Neighborhoods.\"\"\"\n",
    "\n",
    "    # YOUR CODE HERE!\n",
    "\n",
    "\n",
    "def most_expensive_neighborhoods_rent_sales():\n",
    "    \"\"\"Comparison of Rent and Sales Prices of Most Expensive Neighborhoods.\"\"\"   \n",
    "    \n",
    "    # YOUR CODE HERE!\n",
    "\n",
    "    \n",
    "    \n",
    "def parallel_coordinates():\n",
    "    \"\"\"Parallel Coordinates Plot.\"\"\"\n",
    "\n",
    "    # YOUR CODE HERE!\n",
    "\n",
    "\n",
    "\n",
    "def parallel_categories():\n",
    "    \"\"\"Parallel Categories Plot.\"\"\"\n",
    "    \n",
    "    # YOUR CODE HERE!\n",
    "\n",
    "\n",
    "\n",
    "def neighborhood_map():\n",
    "    \"\"\"Neighborhood Map.\"\"\"\n",
    "\n",
    "    # YOUR CODE HERE!\n",
    "\n",
    "\n",
    "def sunburst():\n",
    "    \"\"\"Sunburst Plot.\"\"\"\n",
    "    \n",
    "    # YOUR CODE HERE!\n"
   ]
  },
  {
   "cell_type": "markdown",
   "metadata": {},
   "source": [
    "## Panel Dashboard\n",
    "\n",
    "In this section, you will combine all of the plots into a single dashboard view using Panel. Be creative with your dashboard design!"
   ]
  },
  {
   "cell_type": "code",
   "execution_count": 59,
   "metadata": {},
   "outputs": [
    {
     "data": {},
     "metadata": {},
     "output_type": "display_data"
    },
    {
     "data": {},
     "metadata": {},
     "output_type": "display_data"
    },
    {
     "data": {
      "application/vnd.holoviews_exec.v0+json": "",
      "text/html": [
       "<div id='2352'>\n",
       "\n",
       "\n",
       "\n",
       "\n",
       "\n",
       "  <div class=\"bk-root\" id=\"959f6b73-7832-44f9-a38a-15f4ba168a0c\" data-root-id=\"2352\"></div>\n",
       "</div>\n",
       "<script type=\"application/javascript\">(function(root) {\n",
       "  function embed_document(root) {\n",
       "    var docs_json = {\"80dcce20-947b-4086-bc91-8135063e3197\":{\"defs\":[{\"extends\":null,\"module\":null,\"name\":\"ReactiveHTML1\",\"overrides\":[],\"properties\":[]},{\"extends\":null,\"module\":null,\"name\":\"FlexBox1\",\"overrides\":[],\"properties\":[{\"default\":\"flex-start\",\"kind\":null,\"name\":\"align_content\"},{\"default\":\"flex-start\",\"kind\":null,\"name\":\"align_items\"},{\"default\":\"row\",\"kind\":null,\"name\":\"flex_direction\"},{\"default\":\"wrap\",\"kind\":null,\"name\":\"flex_wrap\"},{\"default\":\"flex-start\",\"kind\":null,\"name\":\"justify_content\"}]},{\"extends\":null,\"module\":null,\"name\":\"TemplateActions1\",\"overrides\":[],\"properties\":[{\"default\":0,\"kind\":null,\"name\":\"open_modal\"},{\"default\":0,\"kind\":null,\"name\":\"close_modal\"}]},{\"extends\":null,\"module\":null,\"name\":\"MaterialTemplateActions1\",\"overrides\":[],\"properties\":[{\"default\":0,\"kind\":null,\"name\":\"open_modal\"},{\"default\":0,\"kind\":null,\"name\":\"close_modal\"}]}],\"roots\":{\"references\":[{\"attributes\":{\"child\":{\"id\":\"2353\"},\"name\":\"Column03879\",\"title\":\"Column Plots\"},\"id\":\"2358\",\"type\":\"Panel\"},{\"attributes\":{},\"id\":\"2383\",\"type\":\"WheelZoomTool\"},{\"attributes\":{\"end\":644.0175329447046,\"reset_end\":644.0175329447046,\"reset_start\":141.1976609302527,\"start\":141.1976609302527,\"tags\":[[[\"sale_price_sqr_foot\",\"sale_price_sqr_foot\",null]]]},\"id\":\"2362\",\"type\":\"Range1d\"},{\"attributes\":{\"line_color\":\"#30a2da\",\"line_width\":2,\"x\":{\"field\":\"year\"},\"y\":{\"field\":\"sale_price_sqr_foot\"}},\"id\":\"2402\",\"type\":\"Line\"},{\"attributes\":{\"axis\":{\"id\":\"2377\"},\"dimension\":1,\"grid_line_color\":null,\"ticker\":null},\"id\":\"2380\",\"type\":\"Grid\"},{\"attributes\":{},\"id\":\"2406\",\"type\":\"AllLabels\"},{\"attributes\":{\"client_comm_id\":\"842a508318d84fefa2b0e53c760fc7ba\",\"comm_id\":\"b1b83f8fbf7a4e679dc1cba33fa6a684\",\"plot_id\":\"2352\"},\"id\":\"2470\",\"type\":\"panel.models.comm_manager.CommManager\"},{\"attributes\":{\"margin\":[0,0,0,0],\"tabs\":[{\"id\":\"2358\"},{\"id\":\"2439\"}]},\"id\":\"2352\",\"type\":\"Tabs\"},{\"attributes\":{\"line_alpha\":0.2,\"line_color\":\"#30a2da\",\"line_width\":2,\"x\":{\"field\":\"year\"},\"y\":{\"field\":\"sale_price_sqr_foot\"}},\"id\":\"2399\",\"type\":\"Line\"},{\"attributes\":{\"margin\":[5,5,5,5],\"name\":\"VSpacer03874\",\"sizing_mode\":\"stretch_height\"},\"id\":\"2438\",\"type\":\"Spacer\"},{\"attributes\":{\"source\":{\"id\":\"2394\"}},\"id\":\"2401\",\"type\":\"CDSView\"},{\"attributes\":{},\"id\":\"2407\",\"type\":\"BasicTickFormatter\"},{\"attributes\":{},\"id\":\"2382\",\"type\":\"PanTool\"},{\"attributes\":{\"overlay\":{\"id\":\"2386\"}},\"id\":\"2384\",\"type\":\"BoxZoomTool\"},{\"attributes\":{},\"id\":\"2381\",\"type\":\"SaveTool\"},{\"attributes\":{\"children\":[{\"id\":\"2354\"},{\"id\":\"2355\"}],\"margin\":[0,0,0,0],\"name\":\"Column03879\"},\"id\":\"2353\",\"type\":\"Column\"},{\"attributes\":{\"margin\":[5,5,5,5],\"name\":\"Str03838\",\"text\":\"&lt;pre&gt;AxesSubplot(0.125,0.125;0.775x0.755)&lt;/pre&gt;\"},\"id\":\"2356\",\"type\":\"panel.models.markup.HTML\"},{\"attributes\":{\"data_source\":{\"id\":\"2394\"},\"glyph\":{\"id\":\"2397\"},\"hover_glyph\":null,\"muted_glyph\":{\"id\":\"2399\"},\"nonselection_glyph\":{\"id\":\"2398\"},\"selection_glyph\":{\"id\":\"2402\"},\"view\":{\"id\":\"2401\"}},\"id\":\"2400\",\"type\":\"GlyphRenderer\"},{\"attributes\":{},\"id\":\"2369\",\"type\":\"LinearScale\"},{\"attributes\":{\"active_multi\":null,\"tools\":[{\"id\":\"2363\"},{\"id\":\"2381\"},{\"id\":\"2382\"},{\"id\":\"2383\"},{\"id\":\"2384\"},{\"id\":\"2385\"}]},\"id\":\"2387\",\"type\":\"Toolbar\"},{\"attributes\":{\"line_alpha\":0.1,\"line_color\":\"#30a2da\",\"line_width\":2,\"x\":{\"field\":\"year\"},\"y\":{\"field\":\"sale_price_sqr_foot\"}},\"id\":\"2398\",\"type\":\"Line\"},{\"attributes\":{\"below\":[{\"id\":\"2373\"}],\"center\":[{\"id\":\"2376\"},{\"id\":\"2380\"}],\"height\":300,\"left\":[{\"id\":\"2377\"}],\"margin\":[5,5,5,5],\"min_border_bottom\":10,\"min_border_left\":10,\"min_border_right\":10,\"min_border_top\":10,\"renderers\":[{\"id\":\"2400\"}],\"sizing_mode\":\"fixed\",\"title\":{\"id\":\"2365\"},\"toolbar\":{\"id\":\"2387\"},\"width\":400,\"x_range\":{\"id\":\"2361\"},\"x_scale\":{\"id\":\"2369\"},\"y_range\":{\"id\":\"2362\"},\"y_scale\":{\"id\":\"2371\"}},\"id\":\"2364\",\"subtype\":\"Figure\",\"type\":\"Plot\"},{\"attributes\":{},\"id\":\"2371\",\"type\":\"LinearScale\"},{\"attributes\":{\"axis_label\":\"sale_price_sqr_foot\",\"formatter\":{\"id\":\"2407\"},\"major_label_policy\":{\"id\":\"2406\"},\"ticker\":{\"id\":\"2378\"}},\"id\":\"2377\",\"type\":\"LinearAxis\"},{\"attributes\":{\"children\":[{\"id\":\"2437\"}],\"css_classes\":[\"panel-widget-box\"],\"margin\":[5,5,5,5],\"name\":\"WidgetBox03869\"},\"id\":\"2436\",\"type\":\"Column\"},{\"attributes\":{},\"id\":\"2395\",\"type\":\"Selection\"},{\"attributes\":{\"axis_label\":\"year\",\"formatter\":{\"id\":\"2404\"},\"major_label_orientation\":1.5707963267948966,\"major_label_policy\":{\"id\":\"2403\"},\"ticker\":{\"id\":\"2374\"}},\"id\":\"2373\",\"type\":\"LinearAxis\"},{\"attributes\":{\"bottom_units\":\"screen\",\"fill_alpha\":0.5,\"fill_color\":\"lightgrey\",\"left_units\":\"screen\",\"level\":\"overlay\",\"line_alpha\":1.0,\"line_color\":\"black\",\"line_dash\":[4,4],\"line_width\":2,\"right_units\":\"screen\",\"syncable\":false,\"top_units\":\"screen\"},\"id\":\"2386\",\"type\":\"BoxAnnotation\"},{\"attributes\":{\"margin\":[20,20,20,20],\"min_width\":250,\"options\":[\"Alamo Square\",\"Anza Vista\",\"Bayview\",\"Buena Vista Park\",\"Central Richmond\",\"Central Sunset\",\"Corona Heights\",\"Cow Hollow\",\"Croker Amazon\",\"Diamond Heights\",\"Downtown \",\"Eureka Valley/Dolores Heights\",\"Excelsior\",\"Financial District North\",\"Financial District South\",\"Forest Knolls\",\"Glen Park\",\"Golden Gate Heights\",\"Haight Ashbury\",\"Hayes Valley\",\"Hunters Point\",\"Ingleside \",\"Inner Mission\",\"Inner Parkside\",\"Inner Richmond\",\"Inner Sunset\",\"Jordan Park/Laurel Heights\",\"Lake --The Presidio\",\"Lone Mountain\",\"Lower Pacific Heights\",\"Marina\",\"Miraloma Park\",\"Mission Bay\",\"Mission Dolores\",\"Mission Terrace\",\"Nob Hill\",\"Noe Valley\",\"Oceanview\",\"Outer Parkside\",\"Outer Richmond \",\"Outer Sunset\",\"Pacific Heights\",\"Park North\",\"Parkside\",\"Parnassus/Ashbury Heights\",\"Portola\",\"Potrero Hill\",\"Presidio Heights\",\"Russian Hill\",\"South Beach\",\"South of Market\",\"Sunnyside\",\"Telegraph Hill\",\"Twin Peaks\",\"Union Square District\",\"Van Ness/ Civic Center\",\"West Portal\",\"Western Addition\",\"Yerba Buena\",\"Bernal Heights \",\"Clarendon Heights\",\"Duboce Triangle\",\"Ingleside Heights\",\"North Beach\",\"North Waterfront\",\"Outer Mission\",\"Westwood Highlands\",\"Merced Heights\",\"Midtown Terrace\",\"Visitacion Valley\",\"Silver Terrace\",\"Westwood Park\",\"Bayview Heights\"],\"title\":\"neighborhood\",\"value\":\"Alamo Square\",\"width\":250},\"id\":\"2437\",\"type\":\"Select\"},{\"attributes\":{\"margin\":[5,5,5,5],\"name\":\"Str03840\",\"text\":\"&lt;pre&gt;AxesSubplot(0.125,0.125;0.775x0.755)&lt;/pre&gt;\"},\"id\":\"2357\",\"type\":\"panel.models.markup.HTML\"},{\"attributes\":{\"callback\":null,\"renderers\":[{\"id\":\"2400\"}],\"tags\":[\"hv_created\"],\"tooltips\":[[\"year\",\"@{year}\"],[\"sale_price_sqr_foot\",\"@{sale_price_sqr_foot}\"],[\"neighborhood\",\"@{neighborhood}\"],[\"housing_units\",\"@{housing_units}\"],[\"gross_rent\",\"@{gross_rent}\"]]},\"id\":\"2363\",\"type\":\"HoverTool\"},{\"attributes\":{\"children\":[{\"id\":\"2436\"},{\"id\":\"2438\"}],\"margin\":[0,0,0,0],\"name\":\"Column03875\"},\"id\":\"2435\",\"type\":\"Column\"},{\"attributes\":{},\"id\":\"2378\",\"type\":\"BasicTicker\"},{\"attributes\":{\"children\":[{\"id\":\"2356\"},{\"id\":\"2357\"}],\"margin\":[0,0,0,0],\"name\":\"Row03842\"},\"id\":\"2355\",\"type\":\"Row\"},{\"attributes\":{\"axis\":{\"id\":\"2373\"},\"grid_line_color\":null,\"ticker\":null},\"id\":\"2376\",\"type\":\"Grid\"},{\"attributes\":{\"css_classes\":[\"markdown\"],\"margin\":[5,5,5,5],\"name\":\"Markdown03877\",\"text\":\"&lt;h1&gt;All Plots&lt;/h1&gt;\"},\"id\":\"2354\",\"type\":\"panel.models.markup.HTML\"},{\"attributes\":{},\"id\":\"2374\",\"type\":\"BasicTicker\"},{\"attributes\":{},\"id\":\"2422\",\"type\":\"UnionRenderers\"},{\"attributes\":{\"children\":[{\"id\":\"2360\"}],\"margin\":[0,0,0,0],\"name\":\"Row03876\"},\"id\":\"2359\",\"type\":\"Row\"},{\"attributes\":{},\"id\":\"2385\",\"type\":\"ResetTool\"},{\"attributes\":{\"child\":{\"id\":\"2359\"},\"name\":\"Row03876\",\"title\":\"Interactive Plots\"},\"id\":\"2439\",\"type\":\"Panel\"},{\"attributes\":{\"data\":{\"gross_rent\":[1239,1530,2324,2971,3528,3739,4390],\"housing_units\":[372560,374507,376454,378401,380348,382295,384242],\"neighborhood\":[\"Alamo Square\",\"Alamo Square\",\"Alamo Square\",\"Alamo Square\",\"Alamo Square\",\"Alamo Square\",\"Alamo Square\"],\"sale_price_sqr_foot\":{\"__ndarray__\":\"DUc7WO0yckCafszcbwhxQIKRs5ot42ZAKDog0LQ8eEAVMinKGEd+QI4V5FDt0IJAVCHcmLVPdUA=\",\"dtype\":\"float64\",\"order\":\"little\",\"shape\":[7]},\"year\":[2010,2011,2012,2013,2014,2015,2016]},\"selected\":{\"id\":\"2395\"},\"selection_policy\":{\"id\":\"2422\"}},\"id\":\"2394\",\"type\":\"ColumnDataSource\"},{\"attributes\":{\"line_color\":\"#30a2da\",\"line_width\":2,\"x\":{\"field\":\"year\"},\"y\":{\"field\":\"sale_price_sqr_foot\"}},\"id\":\"2397\",\"type\":\"Line\"},{\"attributes\":{\"end\":2016.0,\"reset_end\":2016.0,\"reset_start\":2010.0,\"start\":2010.0,\"tags\":[[[\"year\",\"year\",null]]]},\"id\":\"2361\",\"type\":\"Range1d\"},{\"attributes\":{},\"id\":\"2404\",\"type\":\"BasicTickFormatter\"},{\"attributes\":{},\"id\":\"2403\",\"type\":\"AllLabels\"},{\"attributes\":{\"text\":\"neighborhood: Alamo Square\",\"text_color\":\"black\",\"text_font_size\":\"12pt\"},\"id\":\"2365\",\"type\":\"Title\"},{\"attributes\":{\"children\":[{\"id\":\"2364\"},{\"id\":\"2435\"}],\"margin\":[0,0,0,0],\"name\":\"Row03868\"},\"id\":\"2360\",\"type\":\"Row\"}],\"root_ids\":[\"2352\",\"2470\"]},\"title\":\"Bokeh Application\",\"version\":\"2.3.2\"}};\n",
       "    var render_items = [{\"docid\":\"80dcce20-947b-4086-bc91-8135063e3197\",\"root_ids\":[\"2352\"],\"roots\":{\"2352\":\"959f6b73-7832-44f9-a38a-15f4ba168a0c\"}}];\n",
       "    root.Bokeh.embed.embed_items_notebook(docs_json, render_items);\n",
       "  }\n",
       "  if (root.Bokeh !== undefined && root.Bokeh.Panel !== undefined && ( root['Plotly'] !== undefined)) {\n",
       "    embed_document(root);\n",
       "  } else {\n",
       "    var attempts = 0;\n",
       "    var timer = setInterval(function(root) {\n",
       "      if (root.Bokeh !== undefined && root.Bokeh.Panel !== undefined && (root['Plotly'] !== undefined)) {\n",
       "        clearInterval(timer);\n",
       "        embed_document(root);\n",
       "      } else if (document.readyState == \"complete\") {\n",
       "        attempts++;\n",
       "        if (attempts > 200) {\n",
       "          clearInterval(timer);\n",
       "          console.log(\"Bokeh: ERROR: Unable to run BokehJS code because BokehJS library is missing\");\n",
       "        }\n",
       "      }\n",
       "    }, 25, root)\n",
       "  }\n",
       "})(window);</script>"
      ],
      "text/plain": [
       "Tabs\n",
       "    [0] Column\n",
       "        [0] Markdown(str)\n",
       "        [1] Row\n",
       "            [0] Str(AxesSubplot)\n",
       "            [1] Str(AxesSubplot)\n",
       "    [1] Row\n",
       "        [0] Row\n",
       "            [0] HoloViews(DynamicMap)\n",
       "            [1] Column\n",
       "                [0] WidgetBox\n",
       "                    [0] Select(margin=(20, 20, 20, 20), name='neighborhood', options=['Alamo Square', ...], value='Alamo Square', width=250)\n",
       "                [1] VSpacer()"
      ]
     },
     "execution_count": 59,
     "metadata": {
      "application/vnd.holoviews_exec.v0+json": {
       "id": "2352"
      }
     },
     "output_type": "execute_result"
    },
    {
     "data": {
      "image/png": "[encoded data removed]",
      "text/plain": [
       "<Figure size 432x288 with 1 Axes>"
      ]
     },
     "metadata": {
      "needs_background": "light"
     },
     "output_type": "display_data"
    },
    {
     "data": {
      "image/png": "[encoded data removed]",
      "text/plain": [
       "<Figure size 432x288 with 1 Axes>"
      ]
     },
     "metadata": {
      "needs_background": "light"
     },
     "output_type": "display_data"
    }
   ],
   "source": [
    "# Create a Title for the Dashboard\n",
    "\n",
    "# Create a tab layout for the dashboard\n",
    "\n",
    "row_of_bar_1 = pn.Row(housing_units_per_year(sfo_panel), average_gross_rent(sfo_panel)) \n",
    "row_of_bar_2 = pn.Row(average_price_by_neighborhood(sfo_panel))\n",
    "\n",
    "# average_price_by_neighborhood(sfo_panel)\n",
    "\n",
    "plots_as_column = pn.Column(\n",
    "    \"# All Plots\", row_of_bar_1\n",
    ")\n",
    "\n",
    "\n",
    "\n",
    "\n",
    "# Create the dashboard\n",
    "# YOUR CODE HERE!\n",
    "tabs_dashboard = pn.Tabs(\n",
    "    (\"Column Plots\", plots_as_column),\n",
    "    (\"Interactive Plots\", row_of_bar_2),\n",
    ")\n",
    "tabs_dashboard\n",
    "\n"
   ]
  },
  {
   "cell_type": "markdown",
   "metadata": {},
   "source": [
    "## Serve the Panel Dashboard"
   ]
  },
  {
   "cell_type": "code",
   "execution_count": null,
   "metadata": {},
   "outputs": [],
   "source": [
    "# Serve the# dashboard\n",
    "# YOUR CODE HERE!"
   ]
  },
  {
   "cell_type": "markdown",
   "metadata": {},
   "source": [
    "# Debugging\n",
    "\n",
    "Note: Some of the Plotly express plots may not render in the notebook through the panel functions.\n",
    "\n",
    "However, you can test each plot by uncommenting the following code"
   ]
  },
  {
   "cell_type": "code",
   "execution_count": 27,
   "metadata": {},
   "outputs": [
    {
     "data": {
      "text/plain": [
       "<AxesSubplot:title={'center':'Housing Units in San Francisco from 2010 to 2016'}, xlabel='Year', ylabel='Housing Units'>"
      ]
     },
     "execution_count": 27,
     "metadata": {},
     "output_type": "execute_result"
    },
    {
     "data": {
      "image/png": "[encoded data removed]",
      "text/plain": [
       "<Figure size 432x288 with 1 Axes>"
      ]
     },
     "metadata": {
      "needs_background": "light"
     },
     "output_type": "display_data"
    }
   ],
   "source": [
    "# housing_units_per_year()\n",
    "def housing_units_per_year(sfo_panel):\n",
    "    \"\"\"Housing Units Per Year.\"\"\"\n",
    "    \n",
    "    # YOUR CODE HERE!\n",
    "    housing_units_mean = sfo_panel['housing_units'].groupby('year').mean()\n",
    "    min_h = housing_units_mean.min()\n",
    "    max_h = housing_units_mean.max()\n",
    "    std_h = housing_units_mean.std()\n",
    "    \n",
    "    figure1 = plt.figure()\n",
    "    plot_housing_units = housing_units_mean.plot.bar()\n",
    "\n",
    "    plot_housing_units.set_xlabel('Year')\n",
    "    plot_housing_units.set_ylabel('Housing Units')\n",
    "    plot_housing_units.set_title('Housing Units in San Francisco from 2010 to 2016')\n",
    "    plot_housing_units.set_ylim( min_h - 2*std_h , max_h + 2*std_h)\n",
    "  \n",
    "\n",
    "    return plot_housing_units\n",
    " \n",
    "housing_units_per_year(sfo_panel)\n",
    "    "
   ]
  },
  {
   "cell_type": "code",
   "execution_count": 26,
   "metadata": {},
   "outputs": [
    {
     "data": {
      "text/plain": [
       "<AxesSubplot:title={'center':'Average Gross Rent by Year'}, xlabel='Year', ylabel='Gross Rent by Year'>"
      ]
     },
     "execution_count": 26,
     "metadata": {},
     "output_type": "execute_result"
    },
    {
     "data": {
      "image/png": "[encoded data removed]",
      "text/plain": [
       "<Figure size 432x288 with 1 Axes>"
      ]
     },
     "metadata": {
      "needs_background": "light"
     },
     "output_type": "display_data"
    }
   ],
   "source": [
    "# average_gross_rent()\n",
    "\n",
    "def average_gross_rent(sfo_panel):\n",
    "    \"\"\"Average Gross Rent in San Francisco Per Year.\"\"\"\n",
    "    \n",
    "    # YOUR CODE HERE!\n",
    "    avg_sale_price = sfo_panel[['gross_rent']].groupby('year').mean()\n",
    "    avg_sale_price\n",
    "\n",
    "    figure3 = plt.figure()\n",
    "    plot_gross_rent  = avg_sale_price['gross_rent'].plot(color='red')\n",
    "\n",
    "    plot_gross_rent.set_xlabel('Year')\n",
    "    plot_gross_rent.set_ylabel('Gross Rent by Year')\n",
    "    plot_gross_rent.set_title('Average Gross Rent by Year')\n",
    "   \n",
    "    return plot_gross_rent\n",
    "\n",
    "average_gross_rent(sfo_panel)"
   ]
  },
  {
   "cell_type": "code",
   "execution_count": null,
   "metadata": {},
   "outputs": [],
   "source": [
    "# average_sales_price()"
   ]
  },
  {
   "cell_type": "code",
   "execution_count": 34,
   "metadata": {},
   "outputs": [
    {
     "data": {},
     "metadata": {},
     "output_type": "display_data"
    },
    {
     "data": {
      "application/vnd.holoviews_exec.v0+json": "",
      "text/html": [
       "<div id='1014'>\n",
       "\n",
       "\n",
       "\n",
       "\n",
       "\n",
       "  <div class=\"bk-root\" id=\"edef41e2-e45c-444a-a695-a26b85603a7f\" data-root-id=\"1014\"></div>\n",
       "</div>\n",
       "<script type=\"application/javascript\">(function(root) {\n",
       "  function embed_document(root) {\n",
       "    var docs_json = {\"ad98ae03-a7f6-4b8a-ad7a-e62de5b5345b\":{\"defs\":[{\"extends\":null,\"module\":null,\"name\":\"ReactiveHTML1\",\"overrides\":[],\"properties\":[]},{\"extends\":null,\"module\":null,\"name\":\"FlexBox1\",\"overrides\":[],\"properties\":[{\"default\":\"flex-start\",\"kind\":null,\"name\":\"align_content\"},{\"default\":\"flex-start\",\"kind\":null,\"name\":\"align_items\"},{\"default\":\"row\",\"kind\":null,\"name\":\"flex_direction\"},{\"default\":\"wrap\",\"kind\":null,\"name\":\"flex_wrap\"},{\"default\":\"flex-start\",\"kind\":null,\"name\":\"justify_content\"}]},{\"extends\":null,\"module\":null,\"name\":\"TemplateActions1\",\"overrides\":[],\"properties\":[{\"default\":0,\"kind\":null,\"name\":\"open_modal\"},{\"default\":0,\"kind\":null,\"name\":\"close_modal\"}]},{\"extends\":null,\"module\":null,\"name\":\"MaterialTemplateActions1\",\"overrides\":[],\"properties\":[{\"default\":0,\"kind\":null,\"name\":\"open_modal\"},{\"default\":0,\"kind\":null,\"name\":\"close_modal\"}]}],\"roots\":{\"references\":[{\"attributes\":{},\"id\":\"1077\",\"type\":\"UnionRenderers\"},{\"attributes\":{\"below\":[{\"id\":\"1028\"}],\"center\":[{\"id\":\"1031\"},{\"id\":\"1035\"}],\"height\":300,\"left\":[{\"id\":\"1032\"}],\"margin\":[5,5,5,5],\"min_border_bottom\":10,\"min_border_left\":10,\"min_border_right\":10,\"min_border_top\":10,\"renderers\":[{\"id\":\"1055\"}],\"sizing_mode\":\"fixed\",\"title\":{\"id\":\"1020\"},\"toolbar\":{\"id\":\"1042\"},\"width\":400,\"x_range\":{\"id\":\"1016\"},\"x_scale\":{\"id\":\"1024\"},\"y_range\":{\"id\":\"1017\"},\"y_scale\":{\"id\":\"1026\"}},\"id\":\"1019\",\"subtype\":\"Figure\",\"type\":\"Plot\"},{\"attributes\":{\"children\":[{\"id\":\"1094\"}],\"css_classes\":[\"panel-widget-box\"],\"margin\":[5,5,5,5],\"name\":\"WidgetBox01595\"},\"id\":\"1093\",\"type\":\"Column\"},{\"attributes\":{\"active_multi\":null,\"tools\":[{\"id\":\"1018\"},{\"id\":\"1036\"},{\"id\":\"1037\"},{\"id\":\"1038\"},{\"id\":\"1039\"},{\"id\":\"1040\"}]},\"id\":\"1042\",\"type\":\"Toolbar\"},{\"attributes\":{\"callback\":null,\"renderers\":[{\"id\":\"1055\"}],\"tags\":[\"hv_created\"],\"tooltips\":[[\"year\",\"@{year}\"],[\"sale_price_sqr_foot\",\"@{sale_price_sqr_foot}\"],[\"neighborhood\",\"@{neighborhood}\"],[\"housing_units\",\"@{housing_units}\"],[\"gross_rent\",\"@{gross_rent}\"]]},\"id\":\"1018\",\"type\":\"HoverTool\"},{\"attributes\":{},\"id\":\"1036\",\"type\":\"SaveTool\"},{\"attributes\":{},\"id\":\"1062\",\"type\":\"BasicTickFormatter\"},{\"attributes\":{},\"id\":\"1026\",\"type\":\"LinearScale\"},{\"attributes\":{},\"id\":\"1024\",\"type\":\"LinearScale\"},{\"attributes\":{\"end\":2016.0,\"reset_end\":2016.0,\"reset_start\":2010.0,\"start\":2010.0,\"tags\":[[[\"year\",\"year\",null]]]},\"id\":\"1016\",\"type\":\"Range1d\"},{\"attributes\":{},\"id\":\"1037\",\"type\":\"PanTool\"},{\"attributes\":{\"children\":[{\"id\":\"1092\"},{\"id\":\"1093\"},{\"id\":\"1095\"}],\"margin\":[0,0,0,0],\"name\":\"Column01602\"},\"id\":\"1091\",\"type\":\"Column\"},{\"attributes\":{},\"id\":\"1038\",\"type\":\"WheelZoomTool\"},{\"attributes\":{\"data\":{\"gross_rent\":[1239,1530,2324,2971,3528,3739,4390],\"housing_units\":[372560,374507,376454,378401,380348,382295,384242],\"neighborhood\":[\"Alamo Square\",\"Alamo Square\",\"Alamo Square\",\"Alamo Square\",\"Alamo Square\",\"Alamo Square\",\"Alamo Square\"],\"sale_price_sqr_foot\":{\"__ndarray__\":\"DUc7WO0yckCafszcbwhxQIKRs5ot42ZAKDog0LQ8eEAVMinKGEd+QI4V5FDt0IJAVCHcmLVPdUA=\",\"dtype\":\"float64\",\"order\":\"little\",\"shape\":[7]},\"year\":[2010,2011,2012,2013,2014,2015,2016]},\"selected\":{\"id\":\"1050\"},\"selection_policy\":{\"id\":\"1077\"}},\"id\":\"1049\",\"type\":\"ColumnDataSource\"},{\"attributes\":{\"overlay\":{\"id\":\"1041\"}},\"id\":\"1039\",\"type\":\"BoxZoomTool\"},{\"attributes\":{\"margin\":[5,5,5,5],\"name\":\"HSpacer01604\",\"sizing_mode\":\"stretch_width\"},\"id\":\"1090\",\"type\":\"Spacer\"},{\"attributes\":{\"line_alpha\":0.2,\"line_color\":\"#30a2da\",\"line_width\":2,\"x\":{\"field\":\"year\"},\"y\":{\"field\":\"sale_price_sqr_foot\"}},\"id\":\"1054\",\"type\":\"Line\"},{\"attributes\":{},\"id\":\"1061\",\"type\":\"AllLabels\"},{\"attributes\":{\"data_source\":{\"id\":\"1049\"},\"glyph\":{\"id\":\"1052\"},\"hover_glyph\":null,\"muted_glyph\":{\"id\":\"1054\"},\"nonselection_glyph\":{\"id\":\"1053\"},\"selection_glyph\":{\"id\":\"1057\"},\"view\":{\"id\":\"1056\"}},\"id\":\"1055\",\"type\":\"GlyphRenderer\"},{\"attributes\":{\"children\":[{\"id\":\"1015\"},{\"id\":\"1019\"},{\"id\":\"1090\"},{\"id\":\"1091\"}],\"margin\":[0,0,0,0],\"name\":\"Row01594\"},\"id\":\"1014\",\"type\":\"Row\"},{\"attributes\":{\"margin\":[5,5,5,5],\"name\":\"VSpacer01600\",\"sizing_mode\":\"stretch_height\"},\"id\":\"1092\",\"type\":\"Spacer\"},{\"attributes\":{},\"id\":\"1040\",\"type\":\"ResetTool\"},{\"attributes\":{},\"id\":\"1058\",\"type\":\"AllLabels\"},{\"attributes\":{\"margin\":[20,20,20,20],\"min_width\":250,\"options\":[\"Alamo Square\",\"Anza Vista\",\"Bayview\",\"Buena Vista Park\",\"Central Richmond\",\"Central Sunset\",\"Corona Heights\",\"Cow Hollow\",\"Croker Amazon\",\"Diamond Heights\",\"Downtown \",\"Eureka Valley/Dolores Heights\",\"Excelsior\",\"Financial District North\",\"Financial District South\",\"Forest Knolls\",\"Glen Park\",\"Golden Gate Heights\",\"Haight Ashbury\",\"Hayes Valley\",\"Hunters Point\",\"Ingleside \",\"Inner Mission\",\"Inner Parkside\",\"Inner Richmond\",\"Inner Sunset\",\"Jordan Park/Laurel Heights\",\"Lake --The Presidio\",\"Lone Mountain\",\"Lower Pacific Heights\",\"Marina\",\"Miraloma Park\",\"Mission Bay\",\"Mission Dolores\",\"Mission Terrace\",\"Nob Hill\",\"Noe Valley\",\"Oceanview\",\"Outer Parkside\",\"Outer Richmond \",\"Outer Sunset\",\"Pacific Heights\",\"Park North\",\"Parkside\",\"Parnassus/Ashbury Heights\",\"Portola\",\"Potrero Hill\",\"Presidio Heights\",\"Russian Hill\",\"South Beach\",\"South of Market\",\"Sunnyside\",\"Telegraph Hill\",\"Twin Peaks\",\"Union Square District\",\"Van Ness/ Civic Center\",\"West Portal\",\"Western Addition\",\"Yerba Buena\",\"Bernal Heights \",\"Clarendon Heights\",\"Duboce Triangle\",\"Ingleside Heights\",\"North Beach\",\"North Waterfront\",\"Outer Mission\",\"Westwood Highlands\",\"Merced Heights\",\"Midtown Terrace\",\"Visitacion Valley\",\"Silver Terrace\",\"Westwood Park\",\"Bayview Heights\"],\"title\":\"neighborhood\",\"value\":\"Alamo Square\",\"width\":250},\"id\":\"1094\",\"type\":\"Select\"},{\"attributes\":{\"source\":{\"id\":\"1049\"}},\"id\":\"1056\",\"type\":\"CDSView\"},{\"attributes\":{\"axis\":{\"id\":\"1032\"},\"dimension\":1,\"grid_line_color\":null,\"ticker\":null},\"id\":\"1035\",\"type\":\"Grid\"},{\"attributes\":{\"text\":\"neighborhood: Alamo Square\",\"text_color\":\"black\",\"text_font_size\":\"12pt\"},\"id\":\"1020\",\"type\":\"Title\"},{\"attributes\":{\"margin\":[5,5,5,5],\"name\":\"HSpacer01603\",\"sizing_mode\":\"stretch_width\"},\"id\":\"1015\",\"type\":\"Spacer\"},{\"attributes\":{},\"id\":\"1059\",\"type\":\"BasicTickFormatter\"},{\"attributes\":{},\"id\":\"1029\",\"type\":\"BasicTicker\"},{\"attributes\":{\"line_color\":\"#30a2da\",\"line_width\":2,\"x\":{\"field\":\"year\"},\"y\":{\"field\":\"sale_price_sqr_foot\"}},\"id\":\"1052\",\"type\":\"Line\"},{\"attributes\":{\"line_alpha\":0.1,\"line_color\":\"#30a2da\",\"line_width\":2,\"x\":{\"field\":\"year\"},\"y\":{\"field\":\"sale_price_sqr_foot\"}},\"id\":\"1053\",\"type\":\"Line\"},{\"attributes\":{\"client_comm_id\":\"eeb19944cfc74d32939597d70fb25507\",\"comm_id\":\"3dcbdb8faee24803823aefbf64f40327\",\"plot_id\":\"1014\"},\"id\":\"1126\",\"type\":\"panel.models.comm_manager.CommManager\"},{\"attributes\":{\"axis\":{\"id\":\"1028\"},\"grid_line_color\":null,\"ticker\":null},\"id\":\"1031\",\"type\":\"Grid\"},{\"attributes\":{\"margin\":[5,5,5,5],\"name\":\"VSpacer01601\",\"sizing_mode\":\"stretch_height\"},\"id\":\"1095\",\"type\":\"Spacer\"},{\"attributes\":{},\"id\":\"1033\",\"type\":\"BasicTicker\"},{\"attributes\":{},\"id\":\"1050\",\"type\":\"Selection\"},{\"attributes\":{\"axis_label\":\"sale_price_sqr_foot\",\"formatter\":{\"id\":\"1062\"},\"major_label_policy\":{\"id\":\"1061\"},\"ticker\":{\"id\":\"1033\"}},\"id\":\"1032\",\"type\":\"LinearAxis\"},{\"attributes\":{\"bottom_units\":\"screen\",\"fill_alpha\":0.5,\"fill_color\":\"lightgrey\",\"left_units\":\"screen\",\"level\":\"overlay\",\"line_alpha\":1.0,\"line_color\":\"black\",\"line_dash\":[4,4],\"line_width\":2,\"right_units\":\"screen\",\"syncable\":false,\"top_units\":\"screen\"},\"id\":\"1041\",\"type\":\"BoxAnnotation\"},{\"attributes\":{\"line_color\":\"#30a2da\",\"line_width\":2,\"x\":{\"field\":\"year\"},\"y\":{\"field\":\"sale_price_sqr_foot\"}},\"id\":\"1057\",\"type\":\"Line\"},{\"attributes\":{\"end\":644.0175329447046,\"reset_end\":644.0175329447046,\"reset_start\":141.1976609302527,\"start\":141.1976609302527,\"tags\":[[[\"sale_price_sqr_foot\",\"sale_price_sqr_foot\",null]]]},\"id\":\"1017\",\"type\":\"Range1d\"},{\"attributes\":{\"axis_label\":\"year\",\"formatter\":{\"id\":\"1059\"},\"major_label_orientation\":1.5707963267948966,\"major_label_policy\":{\"id\":\"1058\"},\"ticker\":{\"id\":\"1029\"}},\"id\":\"1028\",\"type\":\"LinearAxis\"}],\"root_ids\":[\"1014\",\"1126\"]},\"title\":\"Bokeh Application\",\"version\":\"2.3.2\"}};\n",
       "    var render_items = [{\"docid\":\"ad98ae03-a7f6-4b8a-ad7a-e62de5b5345b\",\"root_ids\":[\"1014\"],\"roots\":{\"1014\":\"edef41e2-e45c-444a-a695-a26b85603a7f\"}}];\n",
       "    root.Bokeh.embed.embed_items_notebook(docs_json, render_items);\n",
       "  }\n",
       "  if (root.Bokeh !== undefined && root.Bokeh.Panel !== undefined && ( root['Plotly'] !== undefined)) {\n",
       "    embed_document(root);\n",
       "  } else {\n",
       "    var attempts = 0;\n",
       "    var timer = setInterval(function(root) {\n",
       "      if (root.Bokeh !== undefined && root.Bokeh.Panel !== undefined && (root['Plotly'] !== undefined)) {\n",
       "        clearInterval(timer);\n",
       "        embed_document(root);\n",
       "      } else if (document.readyState == \"complete\") {\n",
       "        attempts++;\n",
       "        if (attempts > 200) {\n",
       "          clearInterval(timer);\n",
       "          console.log(\"Bokeh: ERROR: Unable to run BokehJS code because BokehJS library is missing\");\n",
       "        }\n",
       "      }\n",
       "    }, 25, root)\n",
       "  }\n",
       "})(window);</script>"
      ],
      "text/plain": [
       ":DynamicMap   [neighborhood]\n",
       "   :Curve   [year]   (sale_price_sqr_foot,neighborhood,housing_units,gross_rent)"
      ]
     },
     "execution_count": 34,
     "metadata": {
      "application/vnd.holoviews_exec.v0+json": {
       "id": "1014"
      }
     },
     "output_type": "execute_result"
    }
   ],
   "source": [
    "# average_price_by_neighborhood()\n",
    "def average_price_by_neighborhood(sfo_panel):\n",
    "    \"\"\"Average Prices by Neighborhood.\"\"\"\n",
    "    \n",
    "    # YOUR CODE HERE!\n",
    "    sales_price_by_neighborhood = sfo_panel.groupby(['year','neighborhood']).mean()\n",
    "    hplot_sales_price_by_neighborhood = sales_price_by_neighborhood.hvplot(x='year', y='sale_price_sqr_foot', rot=90, legend='bottom_right', width=400, groupby='neighborhood', hover_cols='all')\n",
    "    return hplot_sales_price_by_neighborhood\n",
    "\n",
    "average_price_by_neighborhood(sfo_panel)\n",
    "\n"
   ]
  },
  {
   "cell_type": "code",
   "execution_count": null,
   "metadata": {},
   "outputs": [],
   "source": [
    "# top_most_expensive_neighborhoods()"
   ]
  },
  {
   "cell_type": "code",
   "execution_count": null,
   "metadata": {},
   "outputs": [],
   "source": [
    "# most_expensive_neighborhoods_rent_sales()"
   ]
  },
  {
   "cell_type": "code",
   "execution_count": null,
   "metadata": {},
   "outputs": [],
   "source": [
    "# neighborhood_map().show()"
   ]
  },
  {
   "cell_type": "code",
   "execution_count": null,
   "metadata": {},
   "outputs": [],
   "source": [
    "# parallel_categories()"
   ]
  },
  {
   "cell_type": "code",
   "execution_count": null,
   "metadata": {},
   "outputs": [],
   "source": [
    "# parallel_coordinates()"
   ]
  },
  {
   "cell_type": "code",
   "execution_count": null,
   "metadata": {},
   "outputs": [],
   "source": [
    "# sunburst()"
   ]
  },
  {
   "cell_type": "code",
   "execution_count": null,
   "metadata": {},
   "outputs": [],
   "source": []
  }
 ],
 "metadata": {
  "file_extension": ".py",
  "kernelspec": {
   "display_name": "Python [conda env:pyvizenv] *",
   "language": "python",
   "name": "conda-env-pyvizenv-py"
  },
  "language_info": {
   "codemirror_mode": {
    "name": "ipython",
    "version": 3
   },
   "file_extension": ".py",
   "mimetype": "text/x-python",
   "name": "python",
   "nbconvert_exporter": "python",
   "pygments_lexer": "ipython3",
   "version": "3.7.10"
  },
  "mimetype": "text/x-python",
  "name": "python",
  "npconvert_exporter": "python",
  "pygments_lexer": "ipython3",
  "version": 3
 },
 "nbformat": 4,
 "nbformat_minor": 4
}
